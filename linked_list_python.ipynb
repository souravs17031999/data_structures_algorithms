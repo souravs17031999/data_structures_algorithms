{
  "nbformat": 4,
  "nbformat_minor": 0,
  "metadata": {
    "colab": {
      "name": "linked list_python",
      "version": "0.3.2",
      "provenance": []
    },
    "kernelspec": {
      "name": "python3",
      "display_name": "Python 3"
    },
    "accelerator": "GPU"
  },
  "cells": [
    {
      "metadata": {
        "id": "Ktofta0nnQ-d",
        "colab_type": "text"
      },
      "cell_type": "markdown",
      "source": [
        "CLASSES AND OBJECTS IN PYTHON "
      ]
    },
    {
      "metadata": {
        "id": "gO198CVXjBea",
        "colab_type": "code",
        "colab": {
          "base_uri": "https://localhost:8080/",
          "height": 140
        },
        "outputId": "aaab6a46-c505-452d-921a-ddbccf486290"
      },
      "cell_type": "code",
      "source": [
        "class node:\n",
        "  \n",
        "  def __init__(self,data):\n",
        "    self.data=data\n",
        "    self.next=None\n",
        "  \n",
        "class linked_list:\n",
        "  \n",
        "  def __init__(self):\n",
        "    self.head=None\n",
        "  \n",
        "  #printing the linked list items\n",
        "  def print_list(self):\n",
        "    temp=self.head\n",
        "    while(temp):\n",
        "      print(temp.data)\n",
        "      temp=temp.next\n",
        "  #adding the item to the beginning of the linked list    \n",
        "  def push_b(self,new_item):    \n",
        "    new_node=node(new_item)\n",
        "    new_node.next=self.head\n",
        "    self.head=new_node\n",
        "  def \n",
        "  \n",
        "l=linked_list()\n",
        "l1=[1,56,33,20,10,0,87]\n",
        "l1.sort(reverse=True)\n",
        "for i in l1:\n",
        "  l.push_b(i)\n",
        "l.print_list()"
      ],
      "execution_count": 36,
      "outputs": [
        {
          "output_type": "stream",
          "text": [
            "0\n",
            "1\n",
            "10\n",
            "20\n",
            "33\n",
            "56\n",
            "87\n"
          ],
          "name": "stdout"
        }
      ]
    }
  ]
}