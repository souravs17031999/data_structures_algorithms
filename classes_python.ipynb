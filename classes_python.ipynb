{
  "nbformat": 4,
  "nbformat_minor": 0,
  "metadata": {
    "colab": {
      "name": "Untitled2.ipynb",
      "version": "0.3.2",
      "provenance": []
    },
    "kernelspec": {
      "name": "python3",
      "display_name": "Python 3"
    },
    "accelerator": "GPU"
  },
  "cells": [
    {
      "metadata": {
        "id": "Ktofta0nnQ-d",
        "colab_type": "text"
      },
      "cell_type": "markdown",
      "source": [
        "CLASSES AND OBJECTS IN PYTHON "
      ]
    },
    {
      "metadata": {
        "id": "gO198CVXjBea",
        "colab_type": "code",
        "colab": {
          "base_uri": "https://localhost:8080/",
          "height": 87
        },
        "outputId": "49be0b51-2f64-4a76-a692-52f387860d75"
      },
      "cell_type": "code",
      "source": [
        "#python class and objects\n",
        "# self is similar to this pointer in c++ and is initialised in __init__ and is passed in every other method to be used later\n",
        "class student:\n",
        "  \n",
        "  def __init__(self,name,cg,year):  #__init__ is a special method used as a constructor (like in c++) and is implicitly called everytime a new object is created \n",
        "    self.name=name\n",
        "    self.cg=cg\n",
        "    self.year=year\n",
        "  \n",
        "  def print_details(self):\n",
        "    print(f\"hey i am {self.name} and my cg is {self.cg} and i am in {self.year}\")\n",
        "    \n",
        "o1=student(\"sourav\",10,\"2nd year\")  #object is created and __init__ is called and object o1 is also implicitly passed to the student class as an argument and that's what self is referred to in __init__\n",
        "o1.print_details()     #calling print_details method using object created   \n",
        "o2=student(\"anushakti\",10,\"3rd year\")\n",
        "o2.print_details()\n",
        "print(id(o1))\n",
        "print(id(o2))"
      ],
      "execution_count": 14,
      "outputs": [
        {
          "output_type": "stream",
          "text": [
            "hey i am sourav and my cg is 10 and i am in 2nd year\n",
            "hey i am anushakti and my cg is 10 and i am in 3rd year\n",
            "139640038283416\n",
            "139640038284144\n"
          ],
          "name": "stdout"
        }
      ]
    },
    {
      "metadata": {
        "id": "x6ZmpyRSnb5C",
        "colab_type": "code",
        "colab": {
          "base_uri": "https://localhost:8080/",
          "height": 87
        },
        "outputId": "faac659f-765d-417d-a5de-e547d35f3176"
      },
      "cell_type": "code",
      "source": [
        "class dog:\n",
        "  \n",
        "  kind=\"canine\"\n",
        "  def __init__(self,name):\n",
        "    self.name=name\n",
        "\n",
        "d=dog(\"fido\")\n",
        "print(d.kind)\n",
        "print(d.name)\n",
        "e=dog(\"hummer\")\n",
        "print(e.kind)\n",
        "print(e.name)"
      ],
      "execution_count": 17,
      "outputs": [
        {
          "output_type": "stream",
          "text": [
            "canine\n",
            "fido\n",
            "canine\n",
            "hummer\n"
          ],
          "name": "stdout"
        }
      ]
    },
    {
      "metadata": {
        "id": "JFqMZoAeo1s0",
        "colab_type": "code",
        "colab": {
          "base_uri": "https://localhost:8080/",
          "height": 52
        },
        "outputId": "0324ff4b-4f1d-45eb-8446-056787034da6"
      },
      "cell_type": "code",
      "source": [
        "class dog:\n",
        "  \n",
        "  def __init__(self,name):\n",
        "    self.name=name\n",
        "    self.tricks=[]\n",
        "  def add_tricks(self,trick):\n",
        "    self.tricks.append(trick)\n",
        "    \n",
        "d=dog(\"fido\")\n",
        "e=dog(\"hummer\")\n",
        "d.add_tricks(\"roll over\")\n",
        "e.add_tricks(\"bump here\")\n",
        "\n",
        "print(d.tricks)\n",
        "print(e.tricks)\n",
        "    "
      ],
      "execution_count": 19,
      "outputs": [
        {
          "output_type": "stream",
          "text": [
            "['roll over']\n",
            "['bump here']\n"
          ],
          "name": "stdout"
        }
      ]
    }
  ]
}