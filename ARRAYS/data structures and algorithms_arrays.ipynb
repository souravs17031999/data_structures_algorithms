{
  "cells": [
    {
      "metadata": {},
      "cell_type": "markdown",
      "source": "# welcome to data structures and algorithms and this is the first data structure that we are gonna talk about - \"arrays\" -I\n"
    },
    {
      "metadata": {
        "trusted": true
      },
      "cell_type": "code",
      "source": "#creating a array in python and printing it out and python has a module named \"array\" for having pythonic array\n\nimport array\narr_int=array.array('i',[1,2,3])  #i for signed int and I for unsigned int \nfor i in arr_int:\n    print(i,end=\" \")\nprint()    \narr_char=array.array('u',['a','b','c']) #b for char\nfor i in arr_char:\n    print(i,end=\" \")",
      "execution_count": 1,
      "outputs": [
        {
          "output_type": "stream",
          "text": "1 2 3 \na b c ",
          "name": "stdout"
        }
      ]
    },
    {
      "metadata": {
        "trusted": true
      },
      "cell_type": "code",
      "source": "#appending a item to a array\n\narr_int.append(4)\nfor i in arr_int:\n    print(i,end=\" \")\nprint()    \narr_char.append('m')\nfor i in arr_char:\n    print(i,end=\" \")",
      "execution_count": 2,
      "outputs": [
        {
          "output_type": "stream",
          "text": "1 2 3 4 \na b c m ",
          "name": "stdout"
        }
      ]
    },
    {
      "metadata": {
        "trusted": true
      },
      "cell_type": "code",
      "source": "#inserting a element at a position x with index i --> insert(i,x) , inserting doesn't require anything else unlike c++ where we have to manually relocate everything\narr_int.insert(2,5)\nprint(arr_int)",
      "execution_count": 3,
      "outputs": [
        {
          "output_type": "stream",
          "text": "array('i', [1, 2, 5, 3, 4])\n",
          "name": "stdout"
        }
      ]
    },
    {
      "metadata": {
        "trusted": true
      },
      "cell_type": "code",
      "source": "#array out of bound checking is strict in python which is not in c++\nprint(arr_int[10])  #shows error : array index out of range",
      "execution_count": 7,
      "outputs": [
        {
          "output_type": "error",
          "ename": "IndexError",
          "evalue": "array index out of range",
          "traceback": [
            "\u001b[0;31m---------------------------------------------------------------------------\u001b[0m",
            "\u001b[0;31mIndexError\u001b[0m                                Traceback (most recent call last)",
            "\u001b[0;32m<ipython-input-7-3fbf0f249b35>\u001b[0m in \u001b[0;36m<module>\u001b[0;34m\u001b[0m\n\u001b[1;32m      1\u001b[0m \u001b[0;31m#array out of bound checking is strict in python which is not in c++\u001b[0m\u001b[0;34m\u001b[0m\u001b[0;34m\u001b[0m\u001b[0m\n\u001b[0;32m----> 2\u001b[0;31m \u001b[0mprint\u001b[0m\u001b[0;34m(\u001b[0m\u001b[0marr_int\u001b[0m\u001b[0;34m[\u001b[0m\u001b[0;36m10\u001b[0m\u001b[0;34m]\u001b[0m\u001b[0;34m)\u001b[0m  \u001b[0;31m#shows error : array index out of range\u001b[0m\u001b[0;34m\u001b[0m\u001b[0m\n\u001b[0m",
            "\u001b[0;31mIndexError\u001b[0m: array index out of range"
          ]
        }
      ]
    },
    {
      "metadata": {
        "trusted": true
      },
      "cell_type": "code",
      "source": "#other functions like pop removes last element and returns it and remove simply removes the element\narr_int.pop()\n",
      "execution_count": 8,
      "outputs": [
        {
          "output_type": "execute_result",
          "execution_count": 8,
          "data": {
            "text/plain": "3"
          },
          "metadata": {}
        }
      ]
    },
    {
      "metadata": {
        "trusted": true
      },
      "cell_type": "code",
      "source": "print(arr_int)",
      "execution_count": 10,
      "outputs": [
        {
          "output_type": "stream",
          "text": "array('i', [1, 2])\n",
          "name": "stdout"
        }
      ]
    },
    {
      "metadata": {},
      "cell_type": "markdown",
      "source": "# arrays-2"
    },
    {
      "metadata": {
        "trusted": true
      },
      "cell_type": "code",
      "source": "arr_int.append(4)",
      "execution_count": 13,
      "outputs": []
    },
    {
      "metadata": {
        "trusted": true
      },
      "cell_type": "code",
      "source": "for i in range(10,20):  #appending a list of items using for loop on arrays\n    arr_int.append(i)",
      "execution_count": 14,
      "outputs": []
    },
    {
      "metadata": {
        "slideshow": {
          "slide_type": "slide"
        },
        "trusted": true
      },
      "cell_type": "code",
      "source": "print(arr_int)",
      "execution_count": 15,
      "outputs": [
        {
          "output_type": "stream",
          "text": "array('i', [1, 2, 4, 10, 11, 12, 13, 14, 15, 16, 17, 18, 19])\n",
          "name": "stdout"
        }
      ]
    },
    {
      "metadata": {
        "trusted": true
      },
      "cell_type": "code",
      "source": "arr_int_2=array.array('i',[67,12,90])  \narr_int.extend(arr_int_2)  #extending a array into another array - basically adding a another array arr_int_2 items to arr_int\nprint(arr_int)",
      "execution_count": 19,
      "outputs": [
        {
          "output_type": "stream",
          "text": "array('i', [1, 2, 4, 10, 11, 12, 13, 14, 15, 16, 17, 18, 19, 67, 12, 90, 67, 12, 90])\n",
          "name": "stdout"
        }
      ]
    },
    {
      "metadata": {
        "trusted": true
      },
      "cell_type": "code",
      "source": "arr_int.count(67) #counting the number of occurences of a item in a list",
      "execution_count": 20,
      "outputs": [
        {
          "output_type": "execute_result",
          "execution_count": 20,
          "data": {
            "text/plain": "2"
          },
          "metadata": {}
        }
      ]
    },
    {
      "metadata": {
        "trusted": true
      },
      "cell_type": "code",
      "source": "arr_int.reverse() #reversing the array",
      "execution_count": 23,
      "outputs": []
    },
    {
      "metadata": {
        "trusted": true
      },
      "cell_type": "code",
      "source": "print(arr_int)",
      "execution_count": 24,
      "outputs": [
        {
          "output_type": "stream",
          "text": "array('i', [90, 12, 67, 90, 12, 67, 19, 18, 17, 16, 15, 14, 13, 12, 11, 10, 4, 2, 1])\n",
          "name": "stdout"
        }
      ]
    },
    {
      "metadata": {
        "trusted": true
      },
      "cell_type": "code",
      "source": "len(arr_int) #length of array\n",
      "execution_count": 27,
      "outputs": [
        {
          "output_type": "execute_result",
          "execution_count": 27,
          "data": {
            "text/plain": "19"
          },
          "metadata": {}
        }
      ]
    },
    {
      "metadata": {
        "trusted": true
      },
      "cell_type": "code",
      "source": "arr_int.buffer_info() #address of the array and length \n",
      "execution_count": 30,
      "outputs": [
        {
          "output_type": "execute_result",
          "execution_count": 30,
          "data": {
            "text/plain": "(139835006581856, 19)"
          },
          "metadata": {}
        }
      ]
    },
    {
      "metadata": {
        "trusted": true
      },
      "cell_type": "code",
      "source": "l=arr_int.tolist() #converting array to list ",
      "execution_count": 33,
      "outputs": []
    },
    {
      "metadata": {
        "trusted": true
      },
      "cell_type": "code",
      "source": "l",
      "execution_count": 35,
      "outputs": [
        {
          "output_type": "execute_result",
          "execution_count": 35,
          "data": {
            "text/plain": "[90, 12, 67, 90, 12, 67, 19, 18, 17, 16, 15, 14, 13, 12, 11, 10, 4, 2, 1]"
          },
          "metadata": {}
        }
      ]
    }
  ],
  "metadata": {
    "kernelspec": {
      "name": "python36",
      "display_name": "Python 3.6",
      "language": "python"
    },
    "language_info": {
      "mimetype": "text/x-python",
      "nbconvert_exporter": "python",
      "name": "python",
      "pygments_lexer": "ipython3",
      "version": "3.6.6",
      "file_extension": ".py",
      "codemirror_mode": {
        "version": 3,
        "name": "ipython"
      }
    }
  },
  "nbformat": 4,
  "nbformat_minor": 2
}