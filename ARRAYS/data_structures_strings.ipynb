{
 "cells": [
  {
   "cell_type": "markdown",
   "metadata": {},
   "source": [
    "# strings - a class in python"
   ]
  },
  {
   "cell_type": "code",
   "execution_count": 1,
   "metadata": {},
   "outputs": [
    {
     "name": "stdout",
     "output_type": "stream",
     "text": [
      "sourav\n"
     ]
    }
   ],
   "source": [
    "s=\"sourav\"\n",
    "print(s)"
   ]
  },
  {
   "cell_type": "code",
   "execution_count": 2,
   "metadata": {},
   "outputs": [
    {
     "name": "stdout",
     "output_type": "stream",
     "text": [
      "write down your name: sourav kumar\n",
      "hello sourav kumar\n"
     ]
    }
   ],
   "source": [
    "\n",
    "#stdin and stdout for string\n",
    "s=input(\"write down your name: \")\n",
    "print(f\"hello {s}\")"
   ]
  },
  {
   "cell_type": "code",
   "execution_count": 3,
   "metadata": {},
   "outputs": [
    {
     "name": "stdout",
     "output_type": "stream",
     "text": [
      "i\n",
      "2\n",
      "hi there\n"
     ]
    }
   ],
   "source": [
    "#using len function to find length of string and concatenate using + operator\n",
    "s = 'hi'\n",
    "print(s[1])          ## i\n",
    "print(len(s))        ## 2\n",
    "print(s + ' there')  ## hi there\n"
   ]
  },
  {
   "cell_type": "code",
   "execution_count": 4,
   "metadata": {},
   "outputs": [
    {
     "name": "stdout",
     "output_type": "stream",
     "text": [
      "hello i am 3.142 and in string form i am \"3.142\"\n"
     ]
    }
   ],
   "source": [
    "#using str() to convert any datatype into string class\n",
    "p=3.142\n",
    "print(f\"hello i am {p} and in string form i am \\\"{str(p)}\\\"\"\"\")"
   ]
  },
  {
   "cell_type": "code",
   "execution_count": 5,
   "metadata": {},
   "outputs": [
    {
     "name": "stdout",
     "output_type": "stream",
     "text": [
      "<class 'str'>\n"
     ]
    }
   ],
   "source": [
    "#there is no character type in python and every character in a string is also a string unlike c++\n",
    "s=\"hello world , this is sourav kumar and you are seeing cs50\"\n",
    "print(type(s[7]))"
   ]
  },
  {
   "cell_type": "code",
   "execution_count": 6,
   "metadata": {},
   "outputs": [
    {
     "name": "stdout",
     "output_type": "stream",
     "text": [
      "HELLO WORLD , THIS IS SOURAV KUMAR AND YOU ARE SEEING CS50\n",
      "hello world , this is sourav kumar and you are seeing cs50\n"
     ]
    }
   ],
   "source": [
    "#using lower() and upper()  returns the lowercase or uppercase version of the string\n",
    "cap=s.upper()\n",
    "low=s.lower()\n",
    "print(cap)\n",
    "print(cap.lower())"
   ]
  },
  {
   "cell_type": "code",
   "execution_count": 7,
   "metadata": {},
   "outputs": [
    {
     "name": "stdout",
     "output_type": "stream",
     "text": [
      "hello world , this is sourav kumar and you are seeing cs50\n",
      "['deep', 'neural', 'networks', 'hello']\n"
     ]
    }
   ],
   "source": [
    "#using strip for removing whitespaces or any other characters and returning as a list\n",
    "s=\"hello world , this is sourav kumar and you are seeing cs50\"\n",
    "print(s.strip())\n",
    "s_1=\"deep:neural:networks:hello\"\n",
    "print(s_1.split(\":\"))"
   ]
  },
  {
   "cell_type": "code",
   "execution_count": 8,
   "metadata": {},
   "outputs": [
    {
     "name": "stdout",
     "output_type": "stream",
     "text": [
      "['deep', 'neural', 'networks:hello']\n"
     ]
    }
   ],
   "source": [
    "print(s_1.split(':', 2)) #using maximum two times separator \":\""
   ]
  },
  {
   "cell_type": "code",
   "execution_count": 9,
   "metadata": {},
   "outputs": [
    {
     "name": "stdout",
     "output_type": "stream",
     "text": [
      "This is CS50 ,i am sourav for today's presentation and you may contact me at +9123263621 and sourav@cs.50.tv\n",
      "108\n",
      "i am T --> True\n",
      "i am h --> True\n",
      "i am i --> True\n",
      "i am s --> True\n",
      "i am   --> False\n",
      "i am i --> True\n",
      "i am s --> True\n",
      "i am   --> False\n",
      "i am C --> True\n",
      "i am S --> True\n",
      "i am 5 --> False\n",
      "i am 0 --> False\n",
      "i am   --> False\n",
      "i am , --> False\n",
      "i am i --> True\n",
      "i am   --> False\n",
      "i am a --> True\n",
      "i am m --> True\n",
      "i am   --> False\n",
      "i am s --> True\n",
      "i am o --> True\n",
      "i am u --> True\n",
      "i am r --> True\n",
      "i am a --> True\n",
      "i am v --> True\n",
      "i am   --> False\n",
      "i am f --> True\n",
      "i am o --> True\n",
      "i am r --> True\n",
      "i am   --> False\n",
      "i am t --> True\n",
      "i am o --> True\n",
      "i am d --> True\n",
      "i am a --> True\n",
      "i am y --> True\n",
      "i am ' --> False\n",
      "i am s --> True\n",
      "i am   --> False\n",
      "i am p --> True\n",
      "i am r --> True\n",
      "i am e --> True\n",
      "i am s --> True\n",
      "i am e --> True\n",
      "i am n --> True\n",
      "i am t --> True\n",
      "i am a --> True\n",
      "i am t --> True\n",
      "i am i --> True\n",
      "i am o --> True\n",
      "i am n --> True\n",
      "i am   --> False\n",
      "i am a --> True\n",
      "i am n --> True\n",
      "i am d --> True\n",
      "i am   --> False\n",
      "i am y --> True\n",
      "i am o --> True\n",
      "i am u --> True\n",
      "i am   --> False\n",
      "i am m --> True\n",
      "i am a --> True\n",
      "i am y --> True\n",
      "i am   --> False\n",
      "i am c --> True\n",
      "i am o --> True\n",
      "i am n --> True\n",
      "i am t --> True\n",
      "i am a --> True\n",
      "i am c --> True\n",
      "i am t --> True\n",
      "i am   --> False\n",
      "i am m --> True\n",
      "i am e --> True\n",
      "i am   --> False\n",
      "i am a --> True\n",
      "i am t --> True\n",
      "i am   --> False\n",
      "i am + --> False\n",
      "i am 9 --> False\n",
      "i am 1 --> False\n",
      "i am 2 --> False\n",
      "i am 3 --> False\n",
      "i am 2 --> False\n",
      "i am 6 --> False\n",
      "i am 3 --> False\n",
      "i am 6 --> False\n",
      "i am 2 --> False\n",
      "i am 1 --> False\n",
      "i am   --> False\n",
      "i am a --> True\n",
      "i am n --> True\n",
      "i am d --> True\n",
      "i am   --> False\n",
      "i am s --> True\n",
      "i am o --> True\n",
      "i am u --> True\n",
      "i am r --> True\n",
      "i am a --> True\n",
      "i am v --> True\n",
      "i am @ --> False\n",
      "i am c --> True\n",
      "i am s --> True\n",
      "i am . --> False\n",
      "i am 5 --> False\n",
      "i am 0 --> False\n",
      "i am . --> False\n",
      "i am t --> True\n",
      "i am v --> True\n",
      "number of alphabets are 71\n"
     ]
    }
   ],
   "source": [
    "#small program to demonstrate counting of alphabets in a string , counting of digits in a string and other stuff - isalpha() and isdigit() and isalnum()\n",
    "counter=0\n",
    "s_2=\"This is CS50 ,i am sourav for today's presentation and you may contact me at +9123263621 and sourav@cs.50.tv\"\n",
    "print(s_2)\n",
    "print(len(s_2))\n",
    "for i in range(len(s_2)):\n",
    "    print(f\"i am {s_2[i]} --> {s_2[i].isalpha()}\")\n",
    "for i in s_2:\n",
    "    if i.isalpha():\n",
    "        counter+=1\n",
    "print(f\"number of alphabets are {counter}\")        \n"
   ]
  },
  {
   "cell_type": "code",
   "execution_count": 10,
   "metadata": {},
   "outputs": [
    {
     "name": "stdout",
     "output_type": "stream",
     "text": [
      "number of digits are 14\n"
     ]
    }
   ],
   "source": [
    "counter_1=0\n",
    "for i in s_2:\n",
    "    if i.isdigit():\n",
    "        counter_1+=1\n",
    "print(f\"number of digits are {counter_1}\")        \n"
   ]
  },
  {
   "cell_type": "code",
   "execution_count": 11,
   "metadata": {},
   "outputs": [
    {
     "name": "stdout",
     "output_type": "stream",
     "text": [
      "number of spaces are 17\n"
     ]
    }
   ],
   "source": [
    "counter_2=0\n",
    "for i in s_2:\n",
    "    if i.isspace():\n",
    "        counter_2+=1\n",
    "print(f\"number of spaces are {counter_2}\") "
   ]
  },
  {
   "cell_type": "code",
   "execution_count": 12,
   "metadata": {},
   "outputs": [
    {
     "name": "stdout",
     "output_type": "stream",
     "text": [
      "True\n",
      "False\n"
     ]
    }
   ],
   "source": [
    "\n",
    "#using startswith() and endswith()\n",
    "print(s_2.startswith(\"This\"))\n",
    "print(s_2.endswith(\"hello\"))"
   ]
  },
  {
   "cell_type": "code",
   "execution_count": 13,
   "metadata": {},
   "outputs": [
    {
     "name": "stdout",
     "output_type": "stream",
     "text": [
      "19\n"
     ]
    }
   ],
   "source": [
    "#using find() to find the first occurence of index\n",
    "print(s_2.find(\"sourav\"))"
   ]
  },
  {
   "cell_type": "code",
   "execution_count": 15,
   "metadata": {},
   "outputs": [
    {
     "data": {
      "text/plain": [
       "\"That is CS50 ,i am sourav for today's presentation and you may contact me at +9123263621 and sourav@cs.50.tv\""
      ]
     },
     "execution_count": 15,
     "metadata": {},
     "output_type": "execute_result"
    }
   ],
   "source": [
    "s_2.replace('This','That')"
   ]
  },
  {
   "cell_type": "code",
   "execution_count": 22,
   "metadata": {},
   "outputs": [
    {
     "name": "stdout",
     "output_type": "stream",
     "text": [
      "hey-there ! i am now , ready for programming pytorch !\n"
     ]
    }
   ],
   "source": [
    "n=\"hey-there ! i am now , ready for programming pytorch !\"\n",
    "s=\"\".join(n)\n",
    "print(s)"
   ]
  },
  {
   "cell_type": "code",
   "execution_count": 24,
   "metadata": {},
   "outputs": [
    {
     "name": "stdout",
     "output_type": "stream",
     "text": [
      "ell\n",
      "ello\n",
      "hello\n",
      "ello\n"
     ]
    }
   ],
   "source": [
    "#string slicing or selecting a substring from string\n",
    "\n",
    "s=\"hello\"\n",
    "print(s[1:4]) #chars starting at index 1 and extending up to but not including index 4\n",
    "print(s[1:]) #omitting either index defaults to the start or end of the string\n",
    "print(s[:]) #omitting both always gives us a copy of the whole thing (this is the pythonic way to copy a sequence like a string or list)\n",
    "print(s[1:100]) #an index that is too big is truncated down to the string length\n"
   ]
  },
  {
   "cell_type": "code",
   "execution_count": 25,
   "metadata": {},
   "outputs": [
    {
     "data": {
      "text/plain": [
       "'o'"
      ]
     },
     "execution_count": 25,
     "metadata": {},
     "output_type": "execute_result"
    }
   ],
   "source": [
    "#As an alternative, Python uses negative numbers to give easy access to the chars at the end of the string: s[-1] is the last char 'o', s[-2] is 'l' the next-to-last char, and so on. Negative index numbers count back from the end of the string:\n",
    "s[-1] #last char (1st from the end)"
   ]
  },
  {
   "cell_type": "code",
   "execution_count": 26,
   "metadata": {},
   "outputs": [
    {
     "data": {
      "text/plain": [
       "'he'"
      ]
     },
     "execution_count": 26,
     "metadata": {},
     "output_type": "execute_result"
    }
   ],
   "source": [
    "s[:-3] #going up to but not including the last 3 chars."
   ]
  },
  {
   "cell_type": "code",
   "execution_count": 27,
   "metadata": {},
   "outputs": [
    {
     "data": {
      "text/plain": [
       "'llo'"
      ]
     },
     "execution_count": 27,
     "metadata": {},
     "output_type": "execute_result"
    }
   ],
   "source": [
    "s[-3:] #starting with the 3rd char from the end and extending to the end of the string."
   ]
  },
  {
   "cell_type": "code",
   "execution_count": 28,
   "metadata": {},
   "outputs": [
    {
     "data": {
      "text/plain": [
       "'olleh'"
      ]
     },
     "execution_count": 28,
     "metadata": {},
     "output_type": "execute_result"
    }
   ],
   "source": [
    "s[::-1] #reversing a string"
   ]
  },
  {
   "cell_type": "code",
   "execution_count": 31,
   "metadata": {},
   "outputs": [
    {
     "data": {
      "text/plain": [
       "'hlo'"
      ]
     },
     "execution_count": 31,
     "metadata": {},
     "output_type": "execute_result"
    }
   ],
   "source": [
    "s[::2] #stepping by 2 "
   ]
  },
  {
   "cell_type": "code",
   "execution_count": 32,
   "metadata": {},
   "outputs": [
    {
     "data": {
      "text/plain": [
       "'ello'"
      ]
     },
     "execution_count": 32,
     "metadata": {},
     "output_type": "execute_result"
    }
   ],
   "source": [
    "s[1:100] #truncating the out of bounds chars of string and not raised any error or exception unlike c++"
   ]
  },
  {
   "cell_type": "code",
   "execution_count": 35,
   "metadata": {},
   "outputs": [
    {
     "data": {
      "text/plain": [
       "'hello'"
      ]
     },
     "execution_count": 35,
     "metadata": {},
     "output_type": "execute_result"
    }
   ],
   "source": [
    "s[0:3]+s[3:5] #same as s"
   ]
  },
  {
   "cell_type": "code",
   "execution_count": 36,
   "metadata": {},
   "outputs": [
    {
     "name": "stdout",
     "output_type": "stream",
     "text": [
      "sourav- hell yeah ! i am coder of rating 7 in codechef !\n"
     ]
    }
   ],
   "source": [
    "print(\"%s hell yeah ! i am coder of rating %d in codechef !\"%('sourav-',7)) #formatting string little bit but of less use "
   ]
  },
  {
   "cell_type": "code",
   "execution_count": 38,
   "metadata": {},
   "outputs": [
    {
     "name": "stdout",
     "output_type": "stream",
     "text": [
      "-415\n"
     ]
    }
   ],
   "source": [
    "#eval is useful for evaluating strings in form of mathematical expressions\n",
    "s=\"32-234-213\"\n",
    "s.replace('-','+')\n",
    "print(eval(s))"
   ]
  },
  {
   "cell_type": "markdown",
   "metadata": {},
   "source": [
    " "
   ]
  }
 ],
 "metadata": {
  "kernelspec": {
   "display_name": "Python 3",
   "language": "python",
   "name": "python3"
  },
  "language_info": {
   "codemirror_mode": {
    "name": "ipython",
    "version": 3
   },
   "file_extension": ".py",
   "mimetype": "text/x-python",
   "name": "python",
   "nbconvert_exporter": "python",
   "pygments_lexer": "ipython3",
   "version": "3.6.7"
  }
 },
 "nbformat": 4,
 "nbformat_minor": 2
}
