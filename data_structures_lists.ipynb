{
  "cells": [
    {
      "metadata": {
        "collapsed": true
      },
      "cell_type": "markdown",
      "source": "# LISTS IN PYTHON "
    },
    {
      "metadata": {},
      "cell_type": "markdown",
      "source": "Lists are more abstracted more of array and provides greater and much control over them and flexibility and many special functions."
    },
    {
      "metadata": {
        "trusted": true
      },
      "cell_type": "code",
      "source": "#creating a list\nl=[1,2,3,4,5]\nprint(l)\nfor i in l:\n    print(i)",
      "execution_count": 3,
      "outputs": [
        {
          "output_type": "stream",
          "text": "[1, 2, 3, 4, 5]\n1\n2\n3\n4\n5\n",
          "name": "stdout"
        }
      ]
    },
    {
      "metadata": {
        "trusted": true
      },
      "cell_type": "code",
      "source": "print(l[2])",
      "execution_count": 4,
      "outputs": [
        {
          "output_type": "stream",
          "text": "3\n",
          "name": "stdout"
        }
      ]
    },
    {
      "metadata": {
        "trusted": true
      },
      "cell_type": "code",
      "source": "l1=[[1,2],[3,4],[5,6]]\nprint(l1)",
      "execution_count": 5,
      "outputs": [
        {
          "output_type": "stream",
          "text": "[[1, 2], [3, 4], [5, 6]]\n",
          "name": "stdout"
        }
      ]
    },
    {
      "metadata": {
        "trusted": true
      },
      "cell_type": "code",
      "source": "for i in l1:\n    print(i)",
      "execution_count": 6,
      "outputs": [
        {
          "output_type": "stream",
          "text": "[1, 2]\n[3, 4]\n[5, 6]\n",
          "name": "stdout"
        }
      ]
    },
    {
      "metadata": {
        "trusted": true
      },
      "cell_type": "code",
      "source": "for i,j in l1:\n    print(i,j)",
      "execution_count": 7,
      "outputs": [
        {
          "output_type": "stream",
          "text": "1 2\n3 4\n5 6\n",
          "name": "stdout"
        }
      ]
    },
    {
      "metadata": {
        "trusted": true
      },
      "cell_type": "code",
      "source": "#list with mixed values\nl2=[1,2,3,\"geek\",\"cs50\",'t']\nfor i in l2:\n    print(i)",
      "execution_count": 8,
      "outputs": [
        {
          "output_type": "stream",
          "text": "1\n2\n3\ngeek\ncs50\nt\n",
          "name": "stdout"
        }
      ]
    },
    {
      "metadata": {
        "trusted": true
      },
      "cell_type": "code",
      "source": "#adding more elements\nl.append(10)\nprint(l)",
      "execution_count": 9,
      "outputs": [
        {
          "output_type": "stream",
          "text": "[1, 2, 3, 4, 5, 10]\n",
          "name": "stdout"
        }
      ]
    },
    {
      "metadata": {
        "trusted": true
      },
      "cell_type": "code",
      "source": "#appending or more specifically extending a list to a another existing list\nl_new=[20,30,40,50]\nl.extend(l_new)\nprint(l)",
      "execution_count": 10,
      "outputs": [
        {
          "output_type": "stream",
          "text": "[1, 2, 3, 4, 5, 10, 20, 30, 40, 50]\n",
          "name": "stdout"
        }
      ]
    },
    {
      "metadata": {
        "trusted": true
      },
      "cell_type": "code",
      "source": "#iterating with range for in \nfor i in range(len(l)):\n    print(l[i])",
      "execution_count": 11,
      "outputs": [
        {
          "output_type": "stream",
          "text": "1\n2\n3\n4\n5\n10\n20\n30\n40\n50\n",
          "name": "stdout"
        }
      ]
    },
    {
      "metadata": {
        "trusted": true
      },
      "cell_type": "code",
      "source": "#checking - if in condition \nif 5 in l:\n    print(f\"hey i am int so {True}\")\nelif \"5\" in l:\n    print(f\"hey i am string so {False}\")\nelse:\n    print(False)",
      "execution_count": 17,
      "outputs": [
        {
          "output_type": "stream",
          "text": "hey i am int so True\n",
          "name": "stdout"
        }
      ]
    },
    {
      "metadata": {
        "trusted": true
      },
      "cell_type": "code",
      "source": "#inserting in a list\nl.insert(4,5)\nprint(l)\n",
      "execution_count": 23,
      "outputs": [
        {
          "output_type": "stream",
          "text": "[1, 2, 3, 4, 5, 5, 10, 20, 30, 40, 50]\n",
          "name": "stdout"
        }
      ]
    },
    {
      "metadata": {
        "trusted": true
      },
      "cell_type": "code",
      "source": "#accesing multi-dimensional lists (here , 2-d)\nprint(l1)\nfor i in range(len(l1)):\n    for j in range(len(l1)-1):\n        print(f\"hey i am at l[{i}][{j}] -> {l1[i][j]}\")",
      "execution_count": 32,
      "outputs": [
        {
          "output_type": "stream",
          "text": "[[1, 2], [3, 4], [5, 6]]\nhey i am at l[0][0] -> 1\nhey i am at l[0][1] -> 2\nhey i am at l[1][0] -> 3\nhey i am at l[1][1] -> 4\nhey i am at l[2][0] -> 5\nhey i am at l[2][1] -> 6\n",
          "name": "stdout"
        }
      ]
    },
    {
      "metadata": {
        "trusted": true
      },
      "cell_type": "code",
      "source": "#slicing lists\nprint(l[2:5])\nprint(l[-1:])",
      "execution_count": 36,
      "outputs": [
        {
          "output_type": "stream",
          "text": "[3, 4, 5]\n[50]\n",
          "name": "stdout"
        }
      ]
    },
    {
      "metadata": {
        "trusted": true
      },
      "cell_type": "code",
      "source": "#removing the item\nl.remove(50)\nprint(l)\n#using del for indexing delete/remove\ndel(l[8])\nprint(l)",
      "execution_count": 39,
      "outputs": [
        {
          "output_type": "stream",
          "text": "[1, 2, 3, 4, 5, 5, 10, 30, 40]\n[1, 2, 3, 4, 5, 5, 10, 30]\n",
          "name": "stdout"
        }
      ]
    },
    {
      "metadata": {
        "trusted": true
      },
      "cell_type": "code",
      "source": "#revering the list by two methods\nl.reverse()\nprint(l)",
      "execution_count": 46,
      "outputs": [
        {
          "output_type": "stream",
          "text": "[30, 10, 5, 5, 4, 3, 2, 1]\n",
          "name": "stdout"
        }
      ]
    },
    {
      "metadata": {
        "trusted": true
      },
      "cell_type": "code",
      "source": "print(l[::-1])",
      "execution_count": 47,
      "outputs": [
        {
          "output_type": "stream",
          "text": "[1, 2, 3, 4, 5, 5, 10, 30]\n",
          "name": "stdout"
        }
      ]
    },
    {
      "metadata": {
        "trusted": true
      },
      "cell_type": "code",
      "source": "#counting the occurence of items in a list\nprint(l.count(5))",
      "execution_count": 49,
      "outputs": [
        {
          "output_type": "stream",
          "text": "2\n",
          "name": "stdout"
        }
      ]
    },
    {
      "metadata": {
        "trusted": true
      },
      "cell_type": "code",
      "source": "#sorting the list directly\nl1=[342,2131,1,19,0,1,456546,233,17031999]\nl1.sort()\nprint(l1)",
      "execution_count": 50,
      "outputs": [
        {
          "output_type": "stream",
          "text": "[0, 1, 1, 19, 233, 342, 2131, 456546, 17031999]\n",
          "name": "stdout"
        }
      ]
    },
    {
      "metadata": {
        "trusted": true
      },
      "cell_type": "code",
      "source": "l1.sort(reverse=True)\nprint(l1)",
      "execution_count": 51,
      "outputs": [
        {
          "output_type": "stream",
          "text": "[17031999, 456546, 2131, 342, 233, 19, 1, 1, 0]\n",
          "name": "stdout"
        }
      ]
    },
    {
      "metadata": {
        "trusted": true
      },
      "cell_type": "code",
      "source": "#summing up the list items and finding max and min\nprint(f\"sum of items in l is {sum(l)} , in l1 is {sum(l1)}\")\nprint(f\"max in l is {max(l)} and min is {min(l)}\")",
      "execution_count": 56,
      "outputs": [
        {
          "output_type": "stream",
          "text": "sum of items in l is 60 , in l1 is 17491272\nmax in l is 30 and min is 1\n",
          "name": "stdout"
        }
      ]
    },
    {
      "metadata": {
        "trusted": true
      },
      "cell_type": "code",
      "source": "for i in enumerate(l):\n    print(i)",
      "execution_count": 58,
      "outputs": [
        {
          "output_type": "stream",
          "text": "(0, 30)\n(1, 10)\n(2, 5)\n(3, 5)\n(4, 4)\n(5, 3)\n(6, 2)\n(7, 1)\n",
          "name": "stdout"
        }
      ]
    },
    {
      "metadata": {
        "trusted": true
      },
      "cell_type": "code",
      "source": "#map function \nprint(f\"before mapping -> {l}\")\ndef double(x):\n    return 2*x\nl3=map(double,l)\nprint(list(l3))",
      "execution_count": 70,
      "outputs": [
        {
          "output_type": "stream",
          "text": "before mapping -> [30, 10, 5, 5, 4, 3, 2, 1]\n[60, 20, 10, 10, 8, 6, 4, 2]\n",
          "name": "stdout"
        }
      ]
    },
    {
      "metadata": {
        "trusted": true
      },
      "cell_type": "code",
      "source": "#list comphrehension\nl4=[x for x in l]\nprint(l4)\nl5=[2*x*9 for x in l]\nprint(l5)\n",
      "execution_count": 80,
      "outputs": [
        {
          "output_type": "stream",
          "text": "[30, 10, 5, 5, 4, 3, 2, 1]\n[540, 180, 90, 90, 72, 54, 36, 18]\n",
          "name": "stdout"
        }
      ]
    }
  ],
  "metadata": {
    "kernelspec": {
      "name": "python36",
      "display_name": "Python 3.6",
      "language": "python"
    },
    "language_info": {
      "mimetype": "text/x-python",
      "nbconvert_exporter": "python",
      "name": "python",
      "pygments_lexer": "ipython3",
      "version": "3.6.6",
      "file_extension": ".py",
      "codemirror_mode": {
        "version": 3,
        "name": "ipython"
      }
    }
  },
  "nbformat": 4,
  "nbformat_minor": 2
}